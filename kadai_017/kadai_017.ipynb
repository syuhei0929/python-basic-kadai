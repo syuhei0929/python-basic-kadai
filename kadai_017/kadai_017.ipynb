{
 "cells": [
  {
   "cell_type": "code",
   "execution_count": 4,
   "metadata": {},
   "outputs": [
    {
     "name": "stdout",
     "output_type": "stream",
     "text": [
      "太郎50歳で大人です\n",
      "次郎15歳で大人でない\n",
      "花子36歳で大人です\n"
     ]
    }
   ],
   "source": [
    "class Human:\n",
    "    def __init__(self,name,age):\n",
    "        self.name = name\n",
    "        self.age = age\n",
    "    \n",
    "    def check_adult(self):\n",
    "        if self.age >= 20:\n",
    "            print(self.name + str(self.age) + '歳で大人です')\n",
    "\n",
    "        else:\n",
    "            print(self.name + str(self.age) + '歳で大人でない')\n",
    "        \n",
    "\n",
    "       \n",
    "users = [ Human('太郎',50),Human('次郎',15),Human('花子',36)]\n",
    "\n",
    "for user in users:\n",
    "    user.check_adult()"
   ]
  }
 ],
 "metadata": {
  "kernelspec": {
   "display_name": "Python 3",
   "language": "python",
   "name": "python3"
  },
  "language_info": {
   "codemirror_mode": {
    "name": "ipython",
    "version": 3
   },
   "file_extension": ".py",
   "mimetype": "text/x-python",
   "name": "python",
   "nbconvert_exporter": "python",
   "pygments_lexer": "ipython3",
   "version": "3.8.5"
  }
 },
 "nbformat": 4,
 "nbformat_minor": 2
}
